{
 "cells": [
  {
   "cell_type": "markdown",
   "metadata": {},
   "source": [
    "# URLEncode시 주의사항\n",
    "\n",
    "urlencode시 주의해야할 사항이 있다. url이 unicode로 들어올 때도 있고, str로 들어올때도 있다는 점이다."
   ]
  },
  {
   "cell_type": "code",
   "execution_count": 60,
   "metadata": {
    "collapsed": true
   },
   "outputs": [],
   "source": [
    "from urllib import urlencode, unquote, quote\n",
    "from urlparse import urlparse, parse_qs, urlunparse, parse_qsl"
   ]
  },
  {
   "cell_type": "code",
   "execution_count": 141,
   "metadata": {
    "collapsed": true
   },
   "outputs": [],
   "source": [
    "def get_url_with_sorted_params(url):\n",
    "#    if type(url) is unicode:\n",
    "#        url = str(url)\n",
    "\n",
    "    print 'url => ' + url\n",
    "    parsed = list(urlparse(url.encode('ASCII')))\n",
    "    print parsed\n",
    "    sorted_queries = sorted(parse_qsl(parsed[4]), key=get_key)\n",
    "    print sorted_queries\n",
    "\n",
    "    queries = []\n",
    "    for query in sorted_queries:\n",
    "        queries.append(query[0]+'='+query[1])\n",
    "\n",
    "    # parsed[4] = urlencode(sorted_queries) # for 블로그 제목. Do not urlencode\n",
    "    parsed[4] = '&'.join(queries) # 네이버, 블로그 제목 longUrl에서 깨짐\n",
    "    print parsed\n",
    "    print 'return url =>' + urlunparse(parsed)\n",
    "\n",
    "    return urlunparse(parsed)"
   ]
  },
  {
   "cell_type": "code",
   "execution_count": 142,
   "metadata": {
    "collapsed": false
   },
   "outputs": [],
   "source": [
    "u_url = u'http://localhost:5000/@ab180/testing/?medium=cpc&campaign=%ED%95%98%ED%95%98%ED%95%AB'"
   ]
  },
  {
   "cell_type": "code",
   "execution_count": 143,
   "metadata": {
    "collapsed": false
   },
   "outputs": [],
   "source": [
    "s_url = 'http://localhost:5000/@ab180/testing/?medium=cpc&campaign=%ED%95%98%ED%95%98%ED%95%AB'"
   ]
  },
  {
   "cell_type": "code",
   "execution_count": 144,
   "metadata": {
    "collapsed": true
   },
   "outputs": [],
   "source": [
    "s_url = \"한글이야\""
   ]
  },
  {
   "cell_type": "code",
   "execution_count": 145,
   "metadata": {
    "collapsed": false
   },
   "outputs": [
    {
     "data": {
      "text/plain": [
       "unicode"
      ]
     },
     "execution_count": 145,
     "metadata": {},
     "output_type": "execute_result"
    }
   ],
   "source": [
    "type(u_url)"
   ]
  },
  {
   "cell_type": "code",
   "execution_count": 146,
   "metadata": {
    "collapsed": false
   },
   "outputs": [
    {
     "data": {
      "text/plain": [
       "str"
      ]
     },
     "execution_count": 146,
     "metadata": {},
     "output_type": "execute_result"
    }
   ],
   "source": [
    "type(s_url)"
   ]
  },
  {
   "cell_type": "code",
   "execution_count": 147,
   "metadata": {
    "collapsed": false
   },
   "outputs": [
    {
     "name": "stdout",
     "output_type": "stream",
     "text": [
      "url => 한글이야\n"
     ]
    },
    {
     "ename": "UnicodeDecodeError",
     "evalue": "'ascii' codec can't decode byte 0xed in position 0: ordinal not in range(128)",
     "output_type": "error",
     "traceback": [
      "\u001b[0;31m---------------------------------------------------------------------------\u001b[0m",
      "\u001b[0;31mUnicodeDecodeError\u001b[0m                        Traceback (most recent call last)",
      "\u001b[0;32m<ipython-input-147-7770e6ec9e86>\u001b[0m in \u001b[0;36m<module>\u001b[0;34m()\u001b[0m\n\u001b[0;32m----> 1\u001b[0;31m \u001b[0mget_url_with_sorted_params\u001b[0m\u001b[0;34m(\u001b[0m\u001b[0ms_url\u001b[0m\u001b[0;34m)\u001b[0m\u001b[0;34m\u001b[0m\u001b[0m\n\u001b[0m",
      "\u001b[0;32m<ipython-input-141-b79ca0846ff3>\u001b[0m in \u001b[0;36mget_url_with_sorted_params\u001b[0;34m(url)\u001b[0m\n\u001b[1;32m      4\u001b[0m \u001b[0;34m\u001b[0m\u001b[0m\n\u001b[1;32m      5\u001b[0m     \u001b[0;32mprint\u001b[0m \u001b[0;34m'url => '\u001b[0m \u001b[0;34m+\u001b[0m \u001b[0murl\u001b[0m\u001b[0;34m\u001b[0m\u001b[0m\n\u001b[0;32m----> 6\u001b[0;31m     \u001b[0mparsed\u001b[0m \u001b[0;34m=\u001b[0m \u001b[0mlist\u001b[0m\u001b[0;34m(\u001b[0m\u001b[0murlparse\u001b[0m\u001b[0;34m(\u001b[0m\u001b[0murl\u001b[0m\u001b[0;34m.\u001b[0m\u001b[0mencode\u001b[0m\u001b[0;34m(\u001b[0m\u001b[0;34m'ASCII'\u001b[0m\u001b[0;34m)\u001b[0m\u001b[0;34m)\u001b[0m\u001b[0;34m)\u001b[0m\u001b[0;34m\u001b[0m\u001b[0m\n\u001b[0m\u001b[1;32m      7\u001b[0m     \u001b[0;32mprint\u001b[0m \u001b[0mparsed\u001b[0m\u001b[0;34m\u001b[0m\u001b[0m\n\u001b[1;32m      8\u001b[0m     \u001b[0msorted_queries\u001b[0m \u001b[0;34m=\u001b[0m \u001b[0msorted\u001b[0m\u001b[0;34m(\u001b[0m\u001b[0mparse_qsl\u001b[0m\u001b[0;34m(\u001b[0m\u001b[0mparsed\u001b[0m\u001b[0;34m[\u001b[0m\u001b[0;36m4\u001b[0m\u001b[0;34m]\u001b[0m\u001b[0;34m)\u001b[0m\u001b[0;34m,\u001b[0m \u001b[0mkey\u001b[0m\u001b[0;34m=\u001b[0m\u001b[0mget_key\u001b[0m\u001b[0;34m)\u001b[0m\u001b[0;34m\u001b[0m\u001b[0m\n",
      "\u001b[0;31mUnicodeDecodeError\u001b[0m: 'ascii' codec can't decode byte 0xed in position 0: ordinal not in range(128)"
     ]
    }
   ],
   "source": [
    "get_url_with_sorted_params(s_url)"
   ]
  },
  {
   "cell_type": "code",
   "execution_count": 148,
   "metadata": {
    "collapsed": false
   },
   "outputs": [
    {
     "name": "stdout",
     "output_type": "stream",
     "text": [
      "url => http://localhost:5000/@ab180/testing/?medium=cpc&campaign=%ED%95%98%ED%95%98%ED%95%AB\n",
      "['http', 'localhost:5000', '/@ab180/testing/', '', 'medium=cpc&campaign=%ED%95%98%ED%95%98%ED%95%AB', '']\n",
      "[('campaign', '\\xed\\x95\\x98\\xed\\x95\\x98\\xed\\x95\\xab'), ('medium', 'cpc')]\n",
      "['http', 'localhost:5000', '/@ab180/testing/', '', 'campaign=\\xed\\x95\\x98\\xed\\x95\\x98\\xed\\x95\\xab&medium=cpc', '']\n",
      "return url =>http://localhost:5000/@ab180/testing/?campaign=하하핫&medium=cpc\n"
     ]
    },
    {
     "data": {
      "text/plain": [
       "'http://localhost:5000/@ab180/testing/?campaign=\\xed\\x95\\x98\\xed\\x95\\x98\\xed\\x95\\xab&medium=cpc'"
      ]
     },
     "execution_count": 148,
     "metadata": {},
     "output_type": "execute_result"
    }
   ],
   "source": [
    "get_url_with_sorted_params(u_url)"
   ]
  },
  {
   "cell_type": "code",
   "execution_count": null,
   "metadata": {
    "collapsed": true
   },
   "outputs": [],
   "source": []
  }
 ],
 "metadata": {
  "kernelspec": {
   "display_name": "Python 2",
   "language": "python",
   "name": "python2"
  },
  "language_info": {
   "codemirror_mode": {
    "name": "ipython",
    "version": 2
   },
   "file_extension": ".py",
   "mimetype": "text/x-python",
   "name": "python",
   "nbconvert_exporter": "python",
   "pygments_lexer": "ipython2",
   "version": "2.7.11"
  }
 },
 "nbformat": 4,
 "nbformat_minor": 0
}
